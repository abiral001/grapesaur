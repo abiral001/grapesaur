{
 "cells": [
  {
   "cell_type": "code",
   "execution_count": null,
   "id": "227af01b-8a21-41ce-a605-a3d4792c846d",
   "metadata": {},
   "outputs": [],
   "source": [
    "from modules.gs import GDataAnalysis\n",
    "import os"
   ]
  },
  {
   "cell_type": "code",
   "execution_count": null,
   "id": "f242eb9b-e226-4a10-a200-726d0a498be0",
   "metadata": {},
   "outputs": [],
   "source": [
    "gs = GDataAnalysis(os.getcwd(), increaseMemory=False)"
   ]
  },
  {
   "cell_type": "code",
   "execution_count": null,
   "id": "705d2870-cb51-4bc8-ade1-219e8d084135",
   "metadata": {},
   "outputs": [],
   "source": [
    "# Creating the object\n",
    "gs = GDataAnalysis(os.getcwd(), increaseMemory=True)"
   ]
  },
  {
   "cell_type": "code",
   "execution_count": null,
   "id": "28fa6b77-5b51-40da-ad75-a939677d0f5f",
   "metadata": {},
   "outputs": [],
   "source": [
    "# Read File : this is a dummy file\n",
    "gs.readFile(\"vericred_christus_health_plan_20220223.json\")"
   ]
  },
  {
   "cell_type": "code",
   "execution_count": null,
   "id": "d02cacd4-c6bf-480d-ac80-7d6b9acdb3d8",
   "metadata": {},
   "outputs": [],
   "source": [
    "# Get Column Names\n",
    "# print(gs.getColumnNames(colname='group_affiliations'))"
   ]
  },
  {
   "cell_type": "code",
   "execution_count": null,
   "id": "08212a65-9dbd-4d24-9073-399459547a69",
   "metadata": {},
   "outputs": [],
   "source": [
    "# Show Rows\n",
    "# gs.showRows(truncate=False, no = 4, colname='unparsed_name')"
   ]
  },
  {
   "cell_type": "code",
   "execution_count": null,
   "id": "4987c3c9-c57e-4168-b59e-4725835e0ad6",
   "metadata": {},
   "outputs": [],
   "source": [
    "# Show data count of unique data\n",
    "# gs.showUniqueData('group_affiliations.name')"
   ]
  },
  {
   "cell_type": "code",
   "execution_count": null,
   "id": "1d628381-6ba3-458d-b996-95e69b7bf934",
   "metadata": {},
   "outputs": [],
   "source": [
    "# Tree view of the dataset\n",
    "# gs.tree()"
   ]
  },
  {
   "cell_type": "code",
   "execution_count": null,
   "id": "5995c630-db6c-45f3-9eaf-c8a97924a511",
   "metadata": {},
   "outputs": [],
   "source": [
    "# Search for a particular data inside the dataset\n",
    "# gs.search('null', searchfield='Unit')\n",
    "# gs.search('Optumrx', searchfield='providers.unparsed_name')"
   ]
  },
  {
   "cell_type": "code",
   "execution_count": null,
   "id": "90fc1b6c-ecb2-4439-928b-c1d8e642bcab",
   "metadata": {},
   "outputs": [],
   "source": [
    "# Get Column names to be used in search function\n",
    "# gs.flatten()\n",
    "# print(gs.flatCols)"
   ]
  },
  {
   "cell_type": "code",
   "execution_count": null,
   "id": "52a897e0-580b-408f-b69c-aae4a13a0941",
   "metadata": {},
   "outputs": [],
   "source": [
    "# Summary of data\n",
    "gs.summary(stat = True)"
   ]
  },
  {
   "cell_type": "code",
   "execution_count": null,
   "id": "b28e627a-496f-4327-86f2-28a13b2a9bb0",
   "metadata": {},
   "outputs": [],
   "source": [
    "# Run the SQL directly (use df instead of table name)\n",
    "# gs.showRows(all=True, truncate = False, df = gs.sqlQuery('select Unit from df'))"
   ]
  },
  {
   "cell_type": "code",
   "execution_count": null,
   "id": "4d820338-e156-4816-8ecd-9ea077d7c5fd",
   "metadata": {},
   "outputs": [],
   "source": [
    "# Get the duplicates\n",
    "# gs.getDuplicates(count = True)"
   ]
  },
  {
   "cell_type": "code",
   "execution_count": null,
   "id": "09c91ddc-aec4-4ebf-81ad-745197e875bd",
   "metadata": {},
   "outputs": [],
   "source": [
    "# Convert file (works with only CSV)\n",
    "# gs.convertFile('csv', \"|\")"
   ]
  },
  {
   "cell_type": "code",
   "execution_count": null,
   "id": "f056972d-3468-46de-9b7f-79a766769e0c",
   "metadata": {},
   "outputs": [],
   "source": [
    "# Compare two datasets\n",
    "# gs.compareTwoDatasets('vericred_ultimate_health_plans_202206_old.json')"
   ]
  },
  {
   "cell_type": "code",
   "execution_count": null,
   "id": "50038bc3-dbf5-481c-b0ac-16250989b482",
   "metadata": {},
   "outputs": [],
   "source": []
  }
 ],
 "metadata": {
  "kernelspec": {
   "display_name": "Python 3",
   "language": "python",
   "name": "python3"
  },
  "language_info": {
   "codemirror_mode": {
    "name": "ipython",
    "version": 3
   },
   "file_extension": ".py",
   "mimetype": "text/x-python",
   "name": "python",
   "nbconvert_exporter": "python",
   "pygments_lexer": "ipython3",
   "version": "3.9.12"
  }
 },
 "nbformat": 4,
 "nbformat_minor": 5
}
